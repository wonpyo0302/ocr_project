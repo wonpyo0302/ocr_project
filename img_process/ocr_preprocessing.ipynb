{
 "cells": [
  {
   "cell_type": "code",
   "execution_count": 2,
   "metadata": {},
   "outputs": [],
   "source": [
    "import easyocr, cv2, os\n",
    "import numpy as np"
   ]
  },
  {
   "cell_type": "code",
   "execution_count": 12,
   "metadata": {},
   "outputs": [],
   "source": [
    "# path = \"./dataset/scientific_publication/\"\n",
    "path = \"./dataset/\"\n",
    "imgList = os.listdir(path)\n",
    "img = cv2.imread(path + imgList[1])\n",
    "cv2.imshow(\"원본\", img)\n",
    "cv2.waitKey(0)\n",
    "cv2.destroyAllWindows()"
   ]
  },
  {
   "cell_type": "code",
   "execution_count": 13,
   "metadata": {},
   "outputs": [],
   "source": [
    "gray = cv2.cvtColor(img, cv2.COLOR_BGR2GRAY)\n",
    "cv2.imshow(\"흑백\", gray)\n",
    "cv2.waitKey(0)\n",
    "cv2.destroyAllWindows()"
   ]
  },
  {
   "cell_type": "code",
   "execution_count": 14,
   "metadata": {},
   "outputs": [],
   "source": [
    "aa = cv2.threshold(gray, 0, 255, cv2.THRESH_BINARY+cv2.THRESH_OTSU)[1]\n",
    "\n",
    "cv2.imshow(\"흑백\", gray)\n",
    "cv2.imshow(\"tm\", aa)\n",
    "cv2.waitKey(0)\n",
    "cv2.destroyAllWindows()"
   ]
  },
  {
   "cell_type": "code",
   "execution_count": 15,
   "metadata": {},
   "outputs": [],
   "source": [
    "gray = cv2.cvtColor(img, cv2.COLOR_BGR2GRAY)\n",
    "gray = cv2.GaussianBlur(gray, (3, 3), 0)\n",
    "cv2.imshow(\"흑백\", gray)\n",
    "cv2.waitKey(0)\n",
    "cv2.destroyAllWindows()"
   ]
  },
  {
   "cell_type": "code",
   "execution_count": 17,
   "metadata": {},
   "outputs": [],
   "source": [
    "blur = cv2.medianBlur(img, ksize=1)\n",
    "# Morphological Transformation\n",
    "kernel  = cv2.getStructuringElement(cv2.MORPH_ELLIPSE, (3, 3))\n",
    "grad = cv2.morphologyEx(gray, cv2.MORPH_GRADIENT, kernel)\n",
    "_, bw = cv2.threshold(grad, 0.0, 255.0, cv2.THRESH_BINARY | cv2.THRESH_OTSU)\n",
    "kernel2 = cv2.getStructuringElement(cv2.MORPH_RECT, (20,1))\n",
    "connected = cv2.morphologyEx(bw, cv2.MORPH_CLOSE, kernel2)\n",
    "\n",
    "contours, hierarchy = cv2.findContours(connected.copy(), cv2.RETR_EXTERNAL, cv2.CHAIN_APPROX_NONE)\n",
    "mask = np.zeros(bw.shape, dtype=np.uint8)\n",
    "rgb = img.copy()\n",
    "imageList = []\n",
    "for idx in range(len(contours)):\n",
    "    x, y, w, h = cv2.boundingRect(contours[idx])\n",
    "    mask[y:y+h, x:x+w] = 0\n",
    "    cv2.drawContours(mask, contours, idx, (255, 255, 255), -1)\n",
    "    r = float(cv2.countNonZero(mask[y:y+h, x:x+w])) / (w*h)\n",
    "    if r > 0.35 and w > 8 and h > 8 :\n",
    "        if (w * h > 1000) :\n",
    "            cv2.rectangle(rgb, (x,y), (x+w, y+h), (0, 255, 0), 2)\n",
    "            imageList.append(blur[y:y+h, x:x+w])\n",
    "        \n",
    "cv2.imshow(\"original\", img)\n",
    "cv2.imshow(\"흑백\", gray)\n",
    "cv2.imshow(\"grad\", grad)\n",
    "cv2.imshow(\"close\", connected)\n",
    "cv2.imshow(\"윤곽\", rgb)\n",
    "cv2.waitKey(0)\n",
    "cv2.destroyAllWindows()\n"
   ]
  },
  {
   "cell_type": "code",
   "execution_count": 25,
   "metadata": {},
   "outputs": [],
   "source": [
    "blur = cv2.medianBlur(img, ksize=1)\n",
    "cv2.imshow(\"gray\", gray)\n",
    "cv2.imshow(\"blur\", blur)\n",
    "cv2.waitKey(0)\n",
    "cv2.destroyAllWindows()"
   ]
  },
  {
   "cell_type": "code",
   "execution_count": 26,
   "metadata": {},
   "outputs": [
    {
     "name": "stderr",
     "output_type": "stream",
     "text": [
      "Neither CUDA nor MPS are available - defaulting to CPU. Note: This module is much faster with a GPU.\n"
     ]
    },
    {
     "name": "stdout",
     "output_type": "stream",
     "text": [
      "(http: / / creativeconnonsorg /licenses/by-nc-nd/4.0/)_\n",
      "This\n",
      "2092-6782/0 2023 Published\n",
      "Available online 12 Decenber 2023\n",
      "Received 21 September 2023; Received in revised fom 29 November 2023; Accepted 1 December 2023\n",
      "ittps: //doi.org/10.1016/j.ijnaoe.2023.100563\n",
      "E-mail address: kwangjun.paik@inha ack (K-. Paik):\n",
      "Corresponding author:\n",
      "Peer review under responsibility of The Society of Naval Architects of Korea\n",
      "in waves under head sea conditions_ Simonsen et al. (2013) compared\n",
      "it is necessaly to consider the heading angle\n",
      "Several studies have evaluated the perfommance of added resistance\n",
      "added resistance may occur depending on the heading angle. Therefore;\n",
      "schemes including turbulence models_\n",
      "45\" On the other hand; Seo et al (2021) reported that difference in\n",
      "compared according to the numerical simulation tools and numerical\n",
      "resistance is the same from the head sea to the bow angle condition of\n",
      "was calculated   through   STAWAVE-1&2, assuning that the   added\n",
      "flow predictions; such as the boundary layer and wake distribution; were\n",
      "ducted by various institutions (Larsson et al. 2013)_ In addition; local\n",
      "cording to ISO15016 (2015), the added resistance of the regular waves\n",
      "resistance trin; and sinkage values were compared, which were con\n",
      "head sea conditions, which is relatively simple_ On the other hand, ac-\n",
      "institute of ships\n",
      "studies have been conducted on the added resistance of regular waves in\n",
      "wake of the KCS hull through experiments in KRISO (Korea research\n",
      "actively conducted\n",
      "evaluated the waveform; wave elevation along the hull, and nominal\n",
      "which account for the most significant part of the resistance; are being]\n",
      "KCS hull for long time\n",
      "bances, such as wind and waves exist, and studies on the effect of waves;\n",
      "Various institutions representing container ships have studied the\n",
      "ficiency of ships_ Real seaways need to be considered where distu-\n",
      "various heading angle conditions.\n",
      "particular; high-accuracy ship performance estimation precedes the ef-\n",
      "of the KRISO container ship (KCS) hull in the oblique regular wave under\n",
      "increasing as environmenta_ regulations have strengthened recently. In\n"
     ]
    }
   ],
   "source": [
    "reader = easyocr.Reader(['en'])\n",
    "resultList = [];\n",
    "for image in imageList:\n",
    "    result = reader.readtext(image, paragraph=True)\n",
    "    print(result[0][1])\n",
    "    cv2.imshow(\"Asdfasdf\", image)\n",
    "    cv2.waitKey(0)\n",
    "    cv2.destroyAllWindows()\n",
    "    resultList.append(result)\n",
    "print(resultList)\n"
   ]
  },
  {
   "cell_type": "code",
   "execution_count": 14,
   "metadata": {},
   "outputs": [
    {
     "name": "stdout",
     "output_type": "stream",
     "text": [
      "The EMBO Journall Vol3 na6 pp 1350 1356, 1994\n"
     ]
    }
   ],
   "source": [
    "print(result[0][1])"
   ]
  },
  {
   "cell_type": "code",
   "execution_count": 56,
   "metadata": {},
   "outputs": [
    {
     "data": {
      "text/plain": [
       "['doc_000016.png',\n",
       " 'doc_000045.png',\n",
       " 'doc_000050.png',\n",
       " 'doc_000061.png',\n",
       " 'doc_000089.png',\n",
       " 'doc_000121.png',\n",
       " 'doc_000128.png',\n",
       " 'doc_000130.png',\n",
       " 'doc_000171.png',\n",
       " 'doc_000228.png',\n",
       " 'doc_000235.png',\n",
       " 'doc_000240.png',\n",
       " 'doc_000250.png',\n",
       " 'doc_000285.png',\n",
       " 'doc_000298.png',\n",
       " 'doc_000309.png',\n",
       " 'doc_000311.png',\n",
       " 'doc_000334.png',\n",
       " 'doc_000345.png',\n",
       " 'doc_000349.png',\n",
       " 'doc_000392.png',\n",
       " 'doc_000429.png',\n",
       " 'doc_000437.png',\n",
       " 'doc_000438.png',\n",
       " 'doc_000445.png',\n",
       " 'doc_000451.png',\n",
       " 'doc_000453.png',\n",
       " 'doc_000480.png',\n",
       " 'doc_000498.png',\n",
       " 'doc_000509.png',\n",
       " 'doc_000513.png',\n",
       " 'doc_000515.png',\n",
       " 'doc_000522.png',\n",
       " 'doc_000530.png',\n",
       " 'doc_000534.png',\n",
       " 'doc_000584.png',\n",
       " 'doc_000594.png',\n",
       " 'doc_000615.png',\n",
       " 'doc_000617.png',\n",
       " 'doc_000697.png',\n",
       " 'doc_000698.png',\n",
       " 'doc_000741.png',\n",
       " 'doc_000756.png',\n",
       " 'doc_000766.png',\n",
       " 'doc_000767.png',\n",
       " 'doc_000769.png',\n",
       " 'doc_000779.png',\n",
       " 'doc_000785.png',\n",
       " 'doc_000821.png',\n",
       " 'doc_000832.png',\n",
       " 'doc_000845.png',\n",
       " 'doc_000864.png',\n",
       " 'doc_000891.png',\n",
       " 'doc_000942.png',\n",
       " 'doc_000950.png']"
      ]
     },
     "execution_count": 56,
     "metadata": {},
     "output_type": "execute_result"
    }
   ],
   "source": [
    "import os\n",
    "os.listdir('./dataset/scientific_publication/')"
   ]
  },
  {
   "cell_type": "code",
   "execution_count": 131,
   "metadata": {},
   "outputs": [],
   "source": [
    "path = \"./dataset/scientific_publication/\"\n",
    "imgList = os.listdir(path)\n",
    "for idx in range(5, 10) : \n",
    "    img = cv2.imread(path+imgList[idx])\n",
    "    # 흑백처리 및 노이즈 제거\n",
    "    gray = cv2.cvtColor(img, cv2.COLOR_BGR2GRAY)\n",
    "    gray = cv2.GaussianBlur(gray, (3, 3), 0)\n",
    "    # Morphology Transform - 1차\n",
    "    kernel  = cv2.getStructuringElement(cv2.MORPH_ELLIPSE, (3, 3))\n",
    "    grad = cv2.morphologyEx(gray, cv2.MORPH_GRADIENT, kernel)\n",
    "    # Morphology Transform - 2차\n",
    "    _, bw = cv2.threshold(grad, 0.0, 255.0, cv2.THRESH_BINARY | cv2.THRESH_OTSU)\n",
    "    kernel2 = cv2.getStructuringElement(cv2.MORPH_RECT, (20,1))\n",
    "    connected = cv2.morphologyEx(bw, cv2.MORPH_CLOSE, kernel2)\n",
    "    # contour 찾기\n",
    "    contours, hierarchy = cv2.findContours(connected.copy(), cv2.RETR_EXTERNAL, cv2.CHAIN_APPROX_NONE)\n",
    "    mask = np.zeros(bw.shape, dtype=np.uint8)\n",
    "    rgb = img.copy()\n",
    "    for idx in range(len(contours)):\n",
    "        x, y, w, h = cv2.boundingRect(contours[idx])\n",
    "        mask[y:y+h, x:x+w] = 0\n",
    "        cv2.drawContours(mask, contours, idx, (255, 255, 255), -1)\n",
    "        r = float(cv2.countNonZero(mask[y:y+h, x:x+w])) / (w*h)\n",
    "        if r > 0.35 and w > 8 and h > 8 :\n",
    "            cv2.rectangle(rgb, (x,y), (x+w, y+h), (0, 255, 0), 2)\n",
    "    cv2.imshow(\"윤곽\"+str(idx), rgb)\n",
    "cv2.waitKey(0)\n",
    "cv2.destroyAllWindows()\n",
    "\n",
    "\n",
    "\n"
   ]
  },
  {
   "cell_type": "code",
   "execution_count": 10,
   "metadata": {},
   "outputs": [],
   "source": [
    "def getTextBox(img) : \n",
    "    contourList = []\n",
    "    gray = cv2.cvtColor(img, cv2.COLOR_BGR2GRAY)\n",
    "    gray = cv2.GaussianBlur(gray, (3, 3), 0)\n",
    "    # Morphology Transform - 1차\n",
    "    kernel  = cv2.getStructuringElement(cv2.MORPH_ELLIPSE, (3, 3))\n",
    "    grad = cv2.morphologyEx(gray, cv2.MORPH_GRADIENT, kernel)\n",
    "    # Morphology Transform - 2차\n",
    "    _, bw = cv2.threshold(grad, 0.0, 255.0, cv2.THRESH_BINARY | cv2.THRESH_OTSU)\n",
    "    kernel2 = cv2.getStructuringElement(cv2.MORPH_RECT, (20,1))\n",
    "    connected = cv2.morphologyEx(bw, cv2.MORPH_CLOSE, kernel2)\n",
    "    # contour 찾기\n",
    "    contours, hierarchy = cv2.findContours(connected.copy(), cv2.RETR_EXTERNAL, cv2.CHAIN_APPROX_NONE)\n",
    "    mask = np.zeros(bw.shape, dtype=np.uint8)\n",
    "    rgb = img.copy()\n",
    "    for idx in range(len(contours)):\n",
    "        x, y, w, h = cv2.boundingRect(contours[idx])\n",
    "        mask[y:y+h, x:x+w] = 0\n",
    "        cv2.drawContours(mask, contours, idx, (255, 255, 255), -1)\n",
    "        r = float(cv2.countNonZero(mask[y:y+h, x:x+w])) / (w*h)\n",
    "        if r > 0.35 and w > 8 and h > 8 :\n",
    "            cv2.rectangle(rgb, (x,y), (x+w, y+h), (0, 255, 0), 2)\n",
    "            contourList.append(contours[idx])\n",
    "    # cv2.imshow(\"result\", rgb)\n",
    "    return (rgb, contourList)\n",
    "img = cv2.imread(path+imgList[1])\n",
    "result = getTextBox(img)\n",
    "cv2.imshow(\"result\", result[0])\n",
    "cv2.waitKey(0)\n",
    "cv2.destroyAllWindows()\n"
   ]
  },
  {
   "cell_type": "code",
   "execution_count": 11,
   "metadata": {},
   "outputs": [],
   "source": [
    "path = \"./dataset/scientific_publication/\"\n",
    "imgList = os.listdir(path)\n",
    "for idx in range(5, 10) : \n",
    "    img = cv2.imread(path+imgList[idx])\n",
    "    result = getTextBox(img)\n",
    "    cv2.imshow(\"result\"+str(idx), result[0])\n",
    "cv2.waitKey(0)\n",
    "cv2.destroyAllWindows()"
   ]
  },
  {
   "cell_type": "code",
   "execution_count": 9,
   "metadata": {},
   "outputs": [
    {
     "ename": "NameError",
     "evalue": "name 'getTextBox' is not defined",
     "output_type": "error",
     "traceback": [
      "\u001b[1;31m---------------------------------------------------------------------------\u001b[0m",
      "\u001b[1;31mNameError\u001b[0m                                 Traceback (most recent call last)",
      "Cell \u001b[1;32mIn[9], line 12\u001b[0m\n\u001b[0;32m      9\u001b[0m     \u001b[38;5;28;01mreturn\u001b[39;00m cv2\u001b[38;5;241m.\u001b[39mresize(img, (width, height))\n\u001b[0;32m     11\u001b[0m img_ \u001b[38;5;241m=\u001b[39m imgResizeByHeight(img, \u001b[38;5;241m900\u001b[39m)\n\u001b[1;32m---> 12\u001b[0m result \u001b[38;5;241m=\u001b[39m \u001b[43mgetTextBox\u001b[49m(img_)\n\u001b[0;32m     13\u001b[0m cv2\u001b[38;5;241m.\u001b[39mimshow(\u001b[38;5;124m\"\u001b[39m\u001b[38;5;124mresult\u001b[39m\u001b[38;5;124m\"\u001b[39m, result[\u001b[38;5;241m0\u001b[39m])\n\u001b[0;32m     14\u001b[0m result_ \u001b[38;5;241m=\u001b[39m getTextBox(result[\u001b[38;5;241m0\u001b[39m])\n",
      "\u001b[1;31mNameError\u001b[0m: name 'getTextBox' is not defined"
     ]
    }
   ],
   "source": [
    "img = cv2.imread('./dataset/scientific_publication/doc_000061.png')\n",
    "img.shape #height, width\n",
    "\n",
    "def imgResizeByHeight(img, height) :\n",
    "    realH = img.shape[0]\n",
    "    realW = img.shape[1]\n",
    "    ratio = height/realH\n",
    "    width = int(realW * ratio)\n",
    "    return cv2.resize(img, (width, height))\n",
    "\n",
    "img_ = imgResizeByHeight(img, 900)\n",
    "result = getTextBox(img_)\n",
    "cv2.imshow(\"result\", result[0])\n",
    "result_ = getTextBox(result[0])\n",
    "cv2.imshow(\"result_\", result_[0])\n",
    "# cv2.imshow(\"result\", imgResizeByHeight(img, 900))\n",
    "cv2.waitKey(0)\n",
    "cv2.destroyAllWindows()\n"
   ]
  },
  {
   "cell_type": "code",
   "execution_count": null,
   "metadata": {},
   "outputs": [],
   "source": [
    "img = cv2.imread('./dataset/scientific_publication/doc_000061.png')\n"
   ]
  }
 ],
 "metadata": {
  "kernelspec": {
   "display_name": "ocr_venv",
   "language": "python",
   "name": "python3"
  },
  "language_info": {
   "codemirror_mode": {
    "name": "ipython",
    "version": 3
   },
   "file_extension": ".py",
   "mimetype": "text/x-python",
   "name": "python",
   "nbconvert_exporter": "python",
   "pygments_lexer": "ipython3",
   "version": "3.11.8"
  }
 },
 "nbformat": 4,
 "nbformat_minor": 2
}
