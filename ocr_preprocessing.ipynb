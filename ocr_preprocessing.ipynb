{
 "cells": [
  {
   "cell_type": "code",
   "execution_count": 1,
   "metadata": {},
   "outputs": [],
   "source": [
    "import easyocr, cv2, os\n",
    "import numpy as np"
   ]
  },
  {
   "cell_type": "code",
   "execution_count": 2,
   "metadata": {},
   "outputs": [],
   "source": [
    "path = \"./dataset/scientific_publication/\"\n",
    "imgList = os.listdir(path)\n",
    "img = cv2.imread(path + imgList[1])\n",
    "cv2.imshow(\"원본\", img)\n",
    "cv2.waitKey(0)\n",
    "cv2.destroyAllWindows()"
   ]
  },
  {
   "cell_type": "code",
   "execution_count": 3,
   "metadata": {},
   "outputs": [],
   "source": [
    "gray = cv2.cvtColor(img, cv2.COLOR_BGR2GRAY)\n",
    "cv2.imshow(\"흑백\", gray)\n",
    "cv2.waitKey(0)\n",
    "cv2.destroyAllWindows()"
   ]
  },
  {
   "cell_type": "code",
   "execution_count": 4,
   "metadata": {},
   "outputs": [],
   "source": [
    "gray = cv2.cvtColor(img, cv2.COLOR_BGR2GRAY)\n",
    "gray = cv2.GaussianBlur(gray, (3, 3), 0)\n",
    "cv2.imshow(\"흑백\", gray)\n",
    "cv2.waitKey(0)\n",
    "cv2.destroyAllWindows()"
   ]
  },
  {
   "cell_type": "code",
   "execution_count": 16,
   "metadata": {},
   "outputs": [],
   "source": [
    "# Morphological Transformation\n",
    "kernel  = cv2.getStructuringElement(cv2.MORPH_ELLIPSE, (3, 3))\n",
    "grad = cv2.morphologyEx(gray, cv2.MORPH_GRADIENT, kernel)\n",
    "_, bw = cv2.threshold(grad, 0.0, 255.0, cv2.THRESH_BINARY | cv2.THRESH_OTSU)\n",
    "kernel2 = cv2.getStructuringElement(cv2.MORPH_RECT, (20,1))\n",
    "connected = cv2.morphologyEx(bw, cv2.MORPH_CLOSE, kernel2)\n",
    "\n",
    "contours, hierarchy = cv2.findContours(connected.copy(), cv2.RETR_EXTERNAL, cv2.CHAIN_APPROX_NONE)\n",
    "mask = np.zeros(bw.shape, dtype=np.uint8)\n",
    "rgb = img.copy()\n",
    "imageList = []\n",
    "for idx in range(len(contours)):\n",
    "    x, y, w, h = cv2.boundingRect(contours[idx])\n",
    "    mask[y:y+h, x:x+w] = 0\n",
    "    cv2.drawContours(mask, contours, idx, (255, 255, 255), -1)\n",
    "    r = float(cv2.countNonZero(mask[y:y+h, x:x+w])) / (w*h)\n",
    "    if r > 0.35 and w > 8 and h > 8 :\n",
    "        cv2.rectangle(rgb, (x,y), (x+w, y+h), (0, 255, 0), 2)\n",
    "        imageList.append(img[y:y+h, x:x+w])\n",
    "        \n",
    "cv2.imshow(\"원본\", img)\n",
    "cv2.imshow(\"흑백\", gray)\n",
    "cv2.imshow(\"변환\", grad)\n",
    "cv2.imshow(\"close\", connected)\n",
    "cv2.imshow(\"윤곽\", rgb)\n",
    "cv2.waitKey(0)\n",
    "cv2.destroyAllWindows()\n"
   ]
  },
  {
   "cell_type": "code",
   "execution_count": 18,
   "metadata": {},
   "outputs": [
    {
     "name": "stdout",
     "output_type": "stream",
     "text": [
      "26\n"
     ]
    }
   ],
   "source": [
    "print(len(imageList))"
   ]
  },
  {
   "cell_type": "code",
   "execution_count": 19,
   "metadata": {},
   "outputs": [
    {
     "name": "stderr",
     "output_type": "stream",
     "text": [
      "Neither CUDA nor MPS are available - defaulting to CPU. Note: This module is much faster with a GPU.\n"
     ]
    },
    {
     "name": "stdout",
     "output_type": "stream",
     "text": [
      "1350\n",
      "of the Ixmatopoietin receplor supxrlamily (Cosman, 1993) The gen2 encodes 140 (KX) kDa molecule which contains\n",
      "The gene encoding thc JL 4 cellular recepror been clonerd (reriewed M [zuhara [993) and IS mnemar\n",
      "1989)_ Thcse cytokines regulate several stcps in evelopmen. Onc model by which two different cylokines could regulale the transcrip-ion of the same gcnes would involve similar pathways ol signal transduction. Iri an effort churacteniZe putative STF that could mediate the effects of ILA B cell developnent, We delemined that IL 4 rapidly activatcs move STF which has an affiniry for th? GAS elemcn:_ Thc activation and activity of this   factor (termed SIF IL 4) share many biological features with thz IFN pathway. In addition , STF-[L binds sequence the IL 4 inducible pronuter of the [g gerinline lranscnpt differs signilicant; from the GAS element,\n",
      "1987) , and stmulatc thc cclls uadergo Ig heav; chain class-switching (o IGI and IgE (reviewed Coffman 1993). Many of these biological aclivities rely ability srimulate the transcription of particular geres, For MISUHICC the ability of [L-4 to stimulate Ig heavy chain class- swiiching IgG[ and IgE dcpendent on its ability cnmuanle gerline and transcription prior switching {eudwen Collinan 1995)\n",
      "IFN-Y produced dificrent subsets of CD4+ helper cells (revjewed Mosmann and Coffman,\n",
      "receptors such AS MIIC elass (Noclle 1984; Roehm et u= 1984} ard CD23 (Delrance 1987; Hudak\n",
      "Paul alld Ohara , 1987). alicr the level\n",
      "nnctions within given cell type . For insuanC€ stilulate cells proliferate and ditferertiate (retiewe\n",
      "indncu\n",
      "Interleukin- 4 (IL-4, which proxhuced hy cells; MSt cells basophils_ has   potent  biologica) aclivilies Meint different cells_ including and lymphocytes, mast cells macrepages (reviewcd in Spits 992). When cells are culurce WI II-4 , pten stunulates _ varicty of different\n",
      "rapidly activate  STFs after   binding to their respective [ecepln Interestingly, the p9I protein #ppears t0 be ccmponen both STF- CNTF and STF EGF (Bonni et al 1993: Silvennoinen 19934,b). Rerxnt cvidence\n",
      "Introduction\n",
      "tyrosine inhibitors and the active [actor tyrosine phosphorylated. This pattern of activation similar t0 the uctivation of interferou-induced transcription factors. STF - ILA4 appears new' mlember of growirg family of tokine-induced transeriplional regulators . Key wxirds; cylokine interferon interlcukin 4 signal trans duction\n",
      "The Inechanism by\" #hich interleukin 4 (IL-A) regulates the expression particular genes WMUN We hate determined thal IL induces DNA binding   factor (termed STF IL-H) which has strong allinity for IFN- itivation site (GAS) Interestingly, STF-IAalso binds the IL-A respxonsive pronwter for the Ig hcavy chain   germline transcript: The dependent Activation of STF ILAis rapid, does not rcquire pratcin Synthesis resulls the squential appearance of binding activity firsl in the cytoplasm und then later in nceus Activalion STF-ILI cenGST\n",
      "Counmicalcd\n",
      "cornaponJInL Juuor\n",
      "cnnicne Melrire ind ~Dxpantinent Hicrohology Cullagc Pnrsicur And Sumxcons Lolumbiz Untzru New Yurk; [C032 alld 'Public Healuh Pcscurc ` Dparuieit Mccnchlos UnirersI Malica| Cetllct , Ncw Yor 10l6]\n",
      "I+ reeptor doc comaln recognizable Kinase damans Although ability IL 4 induce   Ihc Iranscnpuon of cenain genes has been well dcumented, the mechanism by which the binding ILA rECeD(Or stimulates ttanscription of Ihese genes remains Mncnown Murine IL 4 des mX sem ativate cell Ihrough the mobilization of Ca\" or by activalion of the phosphoinositol pathway (Justement €t al. 1986; Mizuguchi et al 9861 Recently. the pathway by which the inerlerons (IFNs) stimnulale Aranxcrinlivn early response genes has been elucidated (reviewed Pellegrini and Schindler , [993). Thc binding OC IFN (either 0'8 or 3) TO reccdior stimulates acuvalion tyrosine phosphorylation, Tulen cytoplasmic (ranscrjion actOrs FCTTTEd signal ransducing factors (STF)-IFN-aB IFN- fespecuvcly . Aftcr this phosphorylation event; these fcctors [ranslocatc to thc nuclcus Mlte Aet binding \" specific DNA elemenis [ISRE and the IFN- activalion site (GAS) respectively | in the promotcr of   responsive Kene; they function transcrplional achvators The componctts of these' STF complexes have ben purified and cloned, ad #ppeaT renreseM( novcl class of transcriptinal # tivators Onc of these prteins component ol\" hoth STF IFN-uand STF IFN  (reviewed in Pellegrini Schir llet . 1993). This systcm of signal transduction uporant biological Tc CDOMSc IFNs which require Ihe rpid activation specitic (argel genes, appears that Other CYtOKIIIES IlAY employ relaled signaling paradigm: insiance bolh CNTF (Bonni [993}and EGF (Sacowski 1993\n",
      "Paul Rothman\", 2/\n",
      "Alessandra Pernis' _ Richard Pine? and\n",
      "corserved palle'm of cysleine residues well asa WSXWS hox, which are Roline elher mcIbers of this superfamily of cell surface rceptors ( Wiyajima ak. , 1992) , In acklition ,\n",
      "Chris Schindler Helena Kashleva' _\n",
      "factor\n",
      "STF _ IL-4: a novel IL-4-induced signal transducing\n",
      "The EMBO Journall Vol3 na6 pp 1350 1356, 1994\n",
      "[[[[[0, 0], [31, 0], [31, 12], [0, 12]], '1350']], [[[[0, 1], [283, 1], [283, 28], [0, 28]], 'of the Ixmatopoietin receplor supxrlamily (Cosman, 1993) The gen2 encodes 140 (KX) kDa molecule which contains']], [[[[0, 0], [283, 0], [283, 27], [0, 27]], 'The gene encoding thc JL 4 cellular recepror been clonerd (reriewed M [zuhara [993) and IS mnemar']], [[[[0, 0], [285, 0], [285, 166], [0, 166]], '1989)_ Thcse cytokines regulate several stcps in evelopmen. Onc model by which two different cylokines could regulale the transcrip-ion of the same gcnes would involve similar pathways ol signal transduction. Iri an effort churacteniZe putative STF that could mediate the effects of ILA B cell developnent, We delemined that IL 4 rapidly activatcs move STF which has an affiniry for th? GAS elemcn:_ Thc activation and activity of this   factor (termed SIF IL 4) share many biological features with thz IFN pathway. In addition , STF-[L binds sequence the IL 4 inducible pronuter of the [g gerinline lranscnpt differs signilicant; from the GAS element,']], [[[[0, 0], [283, 0], [283, 109], [0, 109]], '1987) , and stmulatc thc cclls uadergo Ig heav; chain class-switching (o IGI and IgE (reviewed Coffman 1993). Many of these biological aclivities rely ability srimulate the transcription of particular geres, For MISUHICC the ability of [L-4 to stimulate Ig heavy chain class- swiiching IgG[ and IgE dcpendent on its ability cnmuanle gerline and transcription prior switching {eudwen Collinan 1995)']], [[[[0, 1], [285, 1], [285, 28], [0, 28]], 'IFN-Y produced dificrent subsets of CD4+ helper cells (revjewed Mosmann and Coffman,']], [[[[0, 0], [283, 0], [283, 27], [0, 27]], 'receptors such AS MIIC elass (Noclle 1984; Roehm et u= 1984} ard CD23 (Delrance 1987; Hudak']], [[[[13, 0], [205, 0], [205, 13], [13, 13]], 'Paul alld Ohara , 1987). alicr the level'], [[[223, 0], [283, 0], [283, 13], [223, 13]], 'cell surface']], [[[[0, 1], [270, 1], [270, 28], [0, 28]], 'nnctions within given cell type . For insuanC€ stilulate cells proliferate and ditferertiate (retiewe']], [[[[0, 2], [42, 2], [42, 10], [0, 10]], 'indncu'], [[[0, 0], [284, 0], [284, 70], [0, 70]], 'Othcr cytokines also induce STFs ard thar Pvenl these STFs bind Slte in the prorler 0l (he IRF- / (ISGFZ) gene (dered IRF-[ GAS) which has been shown t0 bind STF- IFN-? (Pine 1994; Rothman and C.Schindler, unpublished observations)']], [[[[0, 0], [283, 0], [283, 70], [0, 70]], 'Interleukin- 4 (IL-4, which proxhuced hy cells; MSt cells basophils_ has   potent  biologica) aclivilies Meint different cells_ including and lymphocytes, mast cells macrepages (reviewcd in Spits 992). When cells are culurce WI II-4 , pten stunulates _ varicty of different']], [[[[0, 0], [284, 0], [284, 56], [0, 56]], 'rapidly activate  STFs after   binding to their respective [ecepln Interestingly, the p9I protein #ppears t0 be ccmponen both STF- CNTF and STF EGF (Bonni et al 1993: Silvennoinen 19934,b). Rerxnt cvidence']], [[[[1, 0], [72, 0], [72, 13], [1, 13]], 'Introduction']], [[[[0, 1], [283, 1], [283, 94], [0, 94]], \"tyrosine inhibitors and the active [actor tyrosine phosphorylated. This pattern of activation similar t0 the uctivation of interferou-induced transcription factors. STF - ILA4 appears new' mlember of growirg family of tokine-induced transeriplional regulators . Key wxirds; cylokine interferon interlcukin 4 signal trans duction\"]], [[[[0, 0], [283, 0], [283, 150], [0, 150]], 'The Inechanism by\" #hich interleukin 4 (IL-A) regulates the expression particular genes WMUN We hate determined thal IL induces DNA binding   factor (termed STF IL-H) which has strong allinity for IFN- itivation site (GAS) Interestingly, STF-IAalso binds the IL-A respxonsive pronwter for the Ig hcavy chain   germline transcript: The dependent Activation of STF ILAis rapid, does not rcquire pratcin Synthesis resulls the squential appearance of binding activity firsl in the cytoplasm und then later in nceus Activalion STF-ILI cenGST']], [[[[0, 0], [58, 0], [58, 8], [0, 8]], 'Counmicalcd'], [[[82, 2], [108, 2], [108, 8], [82, 8]], 'ATS']], [[[[4, 2], [90, 2], [90, 10], [4, 10]], 'cornaponJInL Juuor']], [[[[0, 0], [270, 0], [270, 58], [0, 58]], \"cnnicne Melrire ind ~Dxpantinent Hicrohology Cullagc Pnrsicur And Sumxcons Lolumbiz Untzru New Yurk; [C032 alld 'Public Healuh Pcscurc ` Dparuieit Mccnchlos UnirersI Malica| Cetllct , Ncw Yor 10l6]\"]], [[[[0, -1], [285, -1], [285, 400], [0, 400]], 'I+ reeptor doc comaln recognizable Kinase damans Although ability IL 4 induce   Ihc Iranscnpuon of cenain genes has been well dcumented, the mechanism by which the binding ILA rECeD(Or stimulates ttanscription of Ihese genes remains Mncnown Murine IL 4 des mX sem ativate cell Ihrough the mobilization of Ca\" or by activalion of the phosphoinositol pathway (Justement €t al. 1986; Mizuguchi et al 9861 Recently. the pathway by which the inerlerons (IFNs) stimnulale Aranxcrinlivn early response genes has been elucidated (reviewed Pellegrini and Schindler , [993). Thc binding OC IFN (either 0\\'8 or 3) TO reccdior stimulates acuvalion tyrosine phosphorylation, Tulen cytoplasmic (ranscrjion actOrs FCTTTEd signal ransducing factors (STF)-IFN-aB IFN- fespecuvcly . Aftcr this phosphorylation event; these fcctors [ranslocatc to thc nuclcus Mlte Aet binding \" specific DNA elemenis [ISRE and the IFN- activalion site (GAS) respectively | in the promotcr of   responsive Kene; they function transcrplional achvators The componctts of these\\' STF complexes have ben purified and cloned, ad #ppeaT renreseM( novcl class of transcriptinal # tivators Onc of these prteins component ol\" hoth STF IFN-uand STF IFN  (reviewed in Pellegrini Schir llet . 1993). This systcm of signal transduction uporant biological Tc CDOMSc IFNs which require Ihe rpid activation specitic (argel genes, appears that Other CYtOKIIIES IlAY employ relaled signaling paradigm: insiance bolh CNTF (Bonni [993}and EGF (Sacowski 1993']], [[[[0, 0], [106, 0], [106, 14], [0, 14]], 'Paul Rothman\", 2/']], [[[[1, 1], [227, 1], [227, 14], [1, 14]], \"Alessandra Pernis' _ Richard Pine? and\"]], [[[[0, 0], [283, 0], [283, 42], [0, 42]], \"corserved palle'm of cysleine residues well asa WSXWS hox, which are Roline elher mcIbers of this superfamily of cell surface rceptors ( Wiyajima ak. , 1992) , In acklition ,\"]], [[[[0, 0], [209, 0], [209, 15], [0, 15]], \"Chris Schindler Helena Kashleva' _\"]], [[[[0, 0], [52, 0], [52, 18], [0, 18]], 'factor']], [[[[0, 0], [434, 0], [434, 23], [0, 23]], 'STF _ IL-4: a novel IL-4-induced signal transducing']], [[[[0, 0], [242, 0], [242, 13], [0, 13]], 'The EMBO Journall Vol3 na6 pp 1350 1356, 1994']]]\n"
     ]
    }
   ],
   "source": [
    "reader = easyocr.Reader(['en'])\n",
    "resultList = [];\n",
    "for image in imageList:\n",
    "    result = reader.readtext(image, paragraph=True)\n",
    "    print(result[0][1])\n",
    "    cv2.imshow(\"Asdfasdf\", image)\n",
    "    cv2.waitKey(0)\n",
    "    cv2.destroyAllWindows()\n",
    "    resultList.append(result)\n",
    "print(resultList)\n"
   ]
  },
  {
   "cell_type": "code",
   "execution_count": 14,
   "metadata": {},
   "outputs": [
    {
     "name": "stdout",
     "output_type": "stream",
     "text": [
      "The EMBO Journall Vol3 na6 pp 1350 1356, 1994\n"
     ]
    }
   ],
   "source": [
    "print(result[0][1])"
   ]
  },
  {
   "cell_type": "code",
   "execution_count": 56,
   "metadata": {},
   "outputs": [
    {
     "data": {
      "text/plain": [
       "['doc_000016.png',\n",
       " 'doc_000045.png',\n",
       " 'doc_000050.png',\n",
       " 'doc_000061.png',\n",
       " 'doc_000089.png',\n",
       " 'doc_000121.png',\n",
       " 'doc_000128.png',\n",
       " 'doc_000130.png',\n",
       " 'doc_000171.png',\n",
       " 'doc_000228.png',\n",
       " 'doc_000235.png',\n",
       " 'doc_000240.png',\n",
       " 'doc_000250.png',\n",
       " 'doc_000285.png',\n",
       " 'doc_000298.png',\n",
       " 'doc_000309.png',\n",
       " 'doc_000311.png',\n",
       " 'doc_000334.png',\n",
       " 'doc_000345.png',\n",
       " 'doc_000349.png',\n",
       " 'doc_000392.png',\n",
       " 'doc_000429.png',\n",
       " 'doc_000437.png',\n",
       " 'doc_000438.png',\n",
       " 'doc_000445.png',\n",
       " 'doc_000451.png',\n",
       " 'doc_000453.png',\n",
       " 'doc_000480.png',\n",
       " 'doc_000498.png',\n",
       " 'doc_000509.png',\n",
       " 'doc_000513.png',\n",
       " 'doc_000515.png',\n",
       " 'doc_000522.png',\n",
       " 'doc_000530.png',\n",
       " 'doc_000534.png',\n",
       " 'doc_000584.png',\n",
       " 'doc_000594.png',\n",
       " 'doc_000615.png',\n",
       " 'doc_000617.png',\n",
       " 'doc_000697.png',\n",
       " 'doc_000698.png',\n",
       " 'doc_000741.png',\n",
       " 'doc_000756.png',\n",
       " 'doc_000766.png',\n",
       " 'doc_000767.png',\n",
       " 'doc_000769.png',\n",
       " 'doc_000779.png',\n",
       " 'doc_000785.png',\n",
       " 'doc_000821.png',\n",
       " 'doc_000832.png',\n",
       " 'doc_000845.png',\n",
       " 'doc_000864.png',\n",
       " 'doc_000891.png',\n",
       " 'doc_000942.png',\n",
       " 'doc_000950.png']"
      ]
     },
     "execution_count": 56,
     "metadata": {},
     "output_type": "execute_result"
    }
   ],
   "source": [
    "import os\n",
    "os.listdir('./dataset/scientific_publication/')"
   ]
  },
  {
   "cell_type": "code",
   "execution_count": 131,
   "metadata": {},
   "outputs": [],
   "source": [
    "path = \"./dataset/scientific_publication/\"\n",
    "imgList = os.listdir(path)\n",
    "for idx in range(5, 10) : \n",
    "    img = cv2.imread(path+imgList[idx])\n",
    "    # 흑백처리 및 노이즈 제거\n",
    "    gray = cv2.cvtColor(img, cv2.COLOR_BGR2GRAY)\n",
    "    gray = cv2.GaussianBlur(gray, (3, 3), 0)\n",
    "    # Morphology Transform - 1차\n",
    "    kernel  = cv2.getStructuringElement(cv2.MORPH_ELLIPSE, (3, 3))\n",
    "    grad = cv2.morphologyEx(gray, cv2.MORPH_GRADIENT, kernel)\n",
    "    # Morphology Transform - 2차\n",
    "    _, bw = cv2.threshold(grad, 0.0, 255.0, cv2.THRESH_BINARY | cv2.THRESH_OTSU)\n",
    "    kernel2 = cv2.getStructuringElement(cv2.MORPH_RECT, (20,1))\n",
    "    connected = cv2.morphologyEx(bw, cv2.MORPH_CLOSE, kernel2)\n",
    "    # contour 찾기\n",
    "    contours, hierarchy = cv2.findContours(connected.copy(), cv2.RETR_EXTERNAL, cv2.CHAIN_APPROX_NONE)\n",
    "    mask = np.zeros(bw.shape, dtype=np.uint8)\n",
    "    rgb = img.copy()\n",
    "    for idx in range(len(contours)):\n",
    "        x, y, w, h = cv2.boundingRect(contours[idx])\n",
    "        mask[y:y+h, x:x+w] = 0\n",
    "        cv2.drawContours(mask, contours, idx, (255, 255, 255), -1)\n",
    "        r = float(cv2.countNonZero(mask[y:y+h, x:x+w])) / (w*h)\n",
    "        if r > 0.35 and w > 8 and h > 8 :\n",
    "            cv2.rectangle(rgb, (x,y), (x+w, y+h), (0, 255, 0), 2)\n",
    "    cv2.imshow(\"윤곽\"+str(idx), rgb)\n",
    "cv2.waitKey(0)\n",
    "cv2.destroyAllWindows()\n",
    "\n",
    "\n",
    "\n"
   ]
  },
  {
   "cell_type": "code",
   "execution_count": 137,
   "metadata": {},
   "outputs": [],
   "source": [
    "def getTextBox(img) : \n",
    "    contourList = []\n",
    "    gray = cv2.cvtColor(img, cv2.COLOR_BGR2GRAY)\n",
    "    gray = cv2.GaussianBlur(gray, (3, 3), 0)\n",
    "    # Morphology Transform - 1차\n",
    "    kernel  = cv2.getStructuringElement(cv2.MORPH_ELLIPSE, (3, 3))\n",
    "    grad = cv2.morphologyEx(gray, cv2.MORPH_GRADIENT, kernel)\n",
    "    # Morphology Transform - 2차\n",
    "    _, bw = cv2.threshold(grad, 0.0, 255.0, cv2.THRESH_BINARY | cv2.THRESH_OTSU)\n",
    "    kernel2 = cv2.getStructuringElement(cv2.MORPH_RECT, (20,1))\n",
    "    connected = cv2.morphologyEx(bw, cv2.MORPH_CLOSE, kernel2)\n",
    "    # contour 찾기\n",
    "    contours, hierarchy = cv2.findContours(connected.copy(), cv2.RETR_EXTERNAL, cv2.CHAIN_APPROX_NONE)\n",
    "    mask = np.zeros(bw.shape, dtype=np.uint8)\n",
    "    rgb = img.copy()\n",
    "    for idx in range(len(contours)):\n",
    "        x, y, w, h = cv2.boundingRect(contours[idx])\n",
    "        mask[y:y+h, x:x+w] = 0\n",
    "        cv2.drawContours(mask, contours, idx, (255, 255, 255), -1)\n",
    "        r = float(cv2.countNonZero(mask[y:y+h, x:x+w])) / (w*h)\n",
    "        if r > 0.35 and w > 8 and h > 8 :\n",
    "            cv2.rectangle(rgb, (x,y), (x+w, y+h), (0, 255, 0), 2)\n",
    "            contourList.append(contours[idx])\n",
    "    # cv2.imshow(\"result\", rgb)\n",
    "    return (rgb, contourList)\n",
    "img = cv2.imread(path+imgList[1])\n",
    "result = getTextBox(img)\n",
    "cv2.imshow(\"result\", result[0])\n",
    "cv2.waitKey(0)\n",
    "cv2.destroyAllWindows()\n"
   ]
  },
  {
   "cell_type": "code",
   "execution_count": 146,
   "metadata": {},
   "outputs": [],
   "source": [
    "path = \"./dataset/scientific_publication/\"\n",
    "imgList = os.listdir(path)\n",
    "for idx in range(5, 10) : \n",
    "    img = cv2.imread(path+imgList[idx])\n",
    "    result = getTextBox(img)\n",
    "    cv2.imshow(\"result\"+str(idx), result[0])\n",
    "cv2.waitKey(0)\n",
    "cv2.destroyAllWindows()"
   ]
  },
  {
   "cell_type": "code",
   "execution_count": 143,
   "metadata": {},
   "outputs": [],
   "source": [
    "img = cv2.imread('./sample1.jpg')\n",
    "img.shape #height, width\n",
    "\n",
    "def imgResizeByHeight(img, height) :\n",
    "    realH = img.shape[0]\n",
    "    realW = img.shape[1]\n",
    "    ratio = height/realH\n",
    "    width = int(realW * ratio)\n",
    "    return cv2.resize(img, (width, height))\n",
    "\n",
    "img_ = imgResizeByHeight(img, 900)\n",
    "result = getTextBox(img_)\n",
    "cv2.imshow(\"result\", result[0])\n",
    "result_ = getTextBox(result[0])\n",
    "cv2.imshow(\"result_\", result_[0])\n",
    "# cv2.imshow(\"result\", imgResizeByHeight(img, 900))\n",
    "cv2.waitKey(0)\n",
    "cv2.destroyAllWindows()\n"
   ]
  }
 ],
 "metadata": {
  "kernelspec": {
   "display_name": "ocr_venv",
   "language": "python",
   "name": "python3"
  },
  "language_info": {
   "codemirror_mode": {
    "name": "ipython",
    "version": 3
   },
   "file_extension": ".py",
   "mimetype": "text/x-python",
   "name": "python",
   "nbconvert_exporter": "python",
   "pygments_lexer": "ipython3",
   "version": "3.11.8"
  }
 },
 "nbformat": 4,
 "nbformat_minor": 2
}
