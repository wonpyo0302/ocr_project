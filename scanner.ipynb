{
 "cells": [
  {
   "cell_type": "code",
   "execution_count": 2,
   "metadata": {},
   "outputs": [],
   "source": [
    "import cv2\n",
    "import numpy as np"
   ]
  },
  {
   "cell_type": "code",
   "execution_count": 3,
   "metadata": {},
   "outputs": [],
   "source": [
    "win_name = 'scan'\n",
    "src = cv2.imread('./sample1.jpg') # 이미지 파일 읽기\n",
    "img = src.copy()\n"
   ]
  },
  {
   "cell_type": "code",
   "execution_count": 31,
   "metadata": {},
   "outputs": [],
   "source": [
    "resize = cv2.resize(img, dsize=(0, 0), fx=0.2, fy=0.2, interpolation=cv2.INTER_AREA)\n",
    "cv2.imshow(\"조절\", resize)\n",
    "cv2.waitKey(0) # param 시간동안 키보드 입력 대기 - 0 인경우 무한대기\n",
    "cv2.destroyAllWindows()"
   ]
  },
  {
   "cell_type": "code",
   "execution_count": 5,
   "metadata": {},
   "outputs": [],
   "source": [
    "gray = cv2.cvtColor(resize, cv2.COLOR_BGR2GRAY)\n",
    "gray = cv2.GaussianBlur(gray, (3, 3), 0) # 이미지를 흐리게 처리함 (noise 제거를 위해 사용)\n",
    "edged = cv2.Canny(gray, 75, 250) # edged를 검출하는 함수 (img, minVal, maxVal)\n",
    "cv2.imshow('gray', edged)  # 윈도우 창에 보여주기 (윈도우창 title, 이미지)\n",
    "cv2.waitKey(0) # param 시간동안 키보드 입력 대기 - 0 인경우 무한대기\n",
    "cv2.destroyAllWindows()"
   ]
  },
  {
   "cell_type": "code",
   "execution_count": 6,
   "metadata": {},
   "outputs": [
    {
     "data": {
      "text/plain": [
       "3"
      ]
     },
     "execution_count": 6,
     "metadata": {},
     "output_type": "execute_result"
    }
   ],
   "source": [
    "# 컨투어 찾기\n",
    "contours, hierarchy = cv2.findContours(edged.copy(), cv2.RETR_EXTERNAL, cv2.CHAIN_APPROX_SIMPLE)\n",
    "len(contours)"
   ]
  },
  {
   "cell_type": "code",
   "execution_count": 7,
   "metadata": {},
   "outputs": [],
   "source": [
    "draw = resize.copy()\n",
    "cv2.drawContours(draw,  contours, -1, (0, 255, 0))\n",
    "cv2.imshow(\"contours\", draw)\n",
    "cv2.waitKey(0)\n",
    "cv2.destroyAllWindows()"
   ]
  },
  {
   "cell_type": "markdown",
   "metadata": {},
   "source": [
    "외곽선 관련 함수\n",
    "- cv2.arcLength() : 외곽선의 길이를 반환\n",
    "- cv2.contourArea() : 외곽선이 감싸는 영역의 면적을 반환\n",
    "- cv2.boundingRect() : 주어진 점을 감싸는 최소 크기의 사각형(바운딩 박스)를 반환\n",
    "- cv2.minEnclosingCircle() : 주어진 점을 감싸는 최소 크기의 원을 반환\n",
    "- cv2.minAreaRect() : 주어진 점을 감싸는 최소 크기의 회전된 사각형을 반환\n",
    "- cv2.approxPolyDP() : 외곽선을 근사화(단순화)\n",
    "- cv2.fitEllipse() : 주어진 점에 적합한 타원을 반환\n",
    "- cv2.fitLine() : 주어진 점에 적합한 직선을 반환\n",
    "- cv2.isContourConvex() : 컨벡스인지를 검사\n",
    "- cv2.convexHull() : 주어진 점으로부터 컨벤스 헐을 반환\n",
    "- cv2.convexityDefects() : 주어진 점과 컨벡스 헐로부터 컨벡스 디펙트를 반환\n",
    "\n",
    "참조 사이트\n",
    " - https://deep-learning-study.tistory.com/232\n",
    " "
   ]
  },
  {
   "cell_type": "code",
   "execution_count": 10,
   "metadata": {},
   "outputs": [],
   "source": [
    "# 컨투어들 중에 영역 크기 순으로 정렬\n",
    "contours = sorted(contours, key=cv2.contourArea, reverse=True)[:5]\n",
    "for c in contours:\n",
    "    peri = cv2.arcLength(c, True) # 외곽선 길이\n",
    "    # print(peri)\n",
    "    verticles = cv2.approxPolyDP(c, 0.02 * peri, True) # 외곽선 근사화\n",
    "    if len(verticles) == 4 : \n",
    "        break\n",
    "pts = verticles.reshape(4, 2) # 배열을 4 * 2 크기로 조정"
   ]
  },
  {
   "cell_type": "code",
   "execution_count": 19,
   "metadata": {},
   "outputs": [
    {
     "name": "stdout",
     "output_type": "stream",
     "text": [
      "[[512  68]\n",
      " [ 50  73]\n",
      " [ 38 748]\n",
      " [552 736]]\n",
      "[ 580  123  786 1288]\n",
      "[[-444]\n",
      " [  23]\n",
      " [ 710]\n",
      " [ 184]]\n",
      "좌상단 [50 73]\n"
     ]
    }
   ],
   "source": [
    "print(pts)\n",
    "print(pts.sum(axis=1))\n",
    "print(np.diff(pts, axis=1))\n",
    "print(\"좌상단\", pts[np.argmin(pts.sum(axis=1))])"
   ]
  },
  {
   "cell_type": "code",
   "execution_count": 20,
   "metadata": {},
   "outputs": [
    {
     "data": {
      "text/plain": [
       "array([[ 50.,  73.],\n",
       "       [512.,  68.],\n",
       "       [552., 736.],\n",
       "       [ 38., 748.]], dtype=float32)"
      ]
     },
     "execution_count": 20,
     "metadata": {},
     "output_type": "execute_result"
    }
   ],
   "source": [
    "# 각각의 좌표 찾기\n",
    "sumXY = pts.sum(axis=1)\n",
    "diff = np.diff(pts, axis=1)\n",
    "\n",
    "topLeft = pts[np.argmin(sumXY)]\n",
    "bottomRight = pts[np.argmax(sumXY)]\n",
    "topRight = pts[np.argmin(diff)]\n",
    "bottomLeft = pts[np.argmax(diff)]\n",
    "\n",
    "np.float32([topLeft, topRight, bottomRight, bottomLeft])"
   ]
  },
  {
   "cell_type": "code",
   "execution_count": 23,
   "metadata": {},
   "outputs": [
    {
     "name": "stdout",
     "output_type": "stream",
     "text": [
      "514 462 675 668\n"
     ]
    }
   ],
   "source": [
    "# 사진을 변환할 때 사용할 서류의 높이\n",
    "widthTop = abs(topRight[0] - topLeft[0])\n",
    "widthBottom = abs(bottomRight[0] - bottomLeft[0])\n",
    "heightRight = abs(topRight[1] - bottomRight[1])\n",
    "heightLeft = abs(topLeft[1] - bottomLeft[1])\n",
    "print(widthBottom, widthTop, heightLeft, heightRight)\n",
    "\n",
    "width = max([widthTop, widthBottom])\n",
    "height = max([heightRight, heightLeft])"
   ]
  },
  {
   "cell_type": "code",
   "execution_count": 25,
   "metadata": {},
   "outputs": [],
   "source": [
    "pts1 = np.float32([topLeft, topRight, bottomRight, bottomLeft])\n",
    "pts2 = np.float32([[0,0], [width, 0], [width, height], [0, height]])"
   ]
  },
  {
   "cell_type": "code",
   "execution_count": 33,
   "metadata": {},
   "outputs": [],
   "source": [
    "matrix = cv2.getPerspectiveTransform(pts1, pts2) # 좌표를 변환하기 위해 사용할 변환행렬\n",
    "result = cv2.warpPerspective(resize, matrix, (width, height)) # 이미지 변환(변환행렬 적용)\n",
    "cv2.imshow(\"result\", result)\n",
    "cv2.waitKey(0)\n",
    "cv2.destroyAllWindows()"
   ]
  },
  {
   "cell_type": "markdown",
   "metadata": {},
   "source": []
  }
 ],
 "metadata": {
  "kernelspec": {
   "display_name": "ocr_venv",
   "language": "python",
   "name": "python3"
  },
  "language_info": {
   "codemirror_mode": {
    "name": "ipython",
    "version": 3
   },
   "file_extension": ".py",
   "mimetype": "text/x-python",
   "name": "python",
   "nbconvert_exporter": "python",
   "pygments_lexer": "ipython3",
   "version": "3.11.8"
  }
 },
 "nbformat": 4,
 "nbformat_minor": 2
}
