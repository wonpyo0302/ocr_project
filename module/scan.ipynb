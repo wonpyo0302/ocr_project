{
 "cells": [
  {
   "cell_type": "code",
   "execution_count": 1,
   "metadata": {},
   "outputs": [],
   "source": [
    "import easyocr, cv2, os\n",
    "import numpy as np"
   ]
  },
  {
   "cell_type": "code",
   "execution_count": 2,
   "metadata": {},
   "outputs": [],
   "source": [
    "class Scan:\n",
    "    def __init__(self, oriImg) :\n",
    "        self.oriImg = oriImg\n",
    "\n",
    "\n",
    "    def adjust(self, img):\n",
    "        # # 이미지 전처리 및 외곽선 추출\n",
    "        edged = self.extractEdge(img)\n",
    "        \n",
    "        contours, hierarchy = cv2.findContours(edged.copy(), cv2.RETR_EXTERNAL, cv2.CHAIN_APPROX_SIMPLE)\n",
    "        draw = img.copy()\n",
    "        cv2.drawContours(draw,  contours, -1, (0, 255, 0))\n",
    "        \n",
    "        # 사각형 중 최대크기의 컨투어 꼭지점\n",
    "        pts = self.getPointsOfMaxRectangle(contours)\n",
    "\n",
    "        # 각각의 좌표 찾기\n",
    "        sumXY = pts.sum(axis=1)\n",
    "        diff = np.diff(pts, axis=1)\n",
    "\n",
    "        topLeft = pts[np.argmin(sumXY)]\n",
    "        bottomRight = pts[np.argmax(sumXY)]\n",
    "        topRight = pts[np.argmin(diff)]\n",
    "        bottomLeft = pts[np.argmax(diff)]\n",
    "\n",
    "        # 사진을 변환할 때 사용할 서류의 높이\n",
    "        widthTop = abs(topRight[0] - topLeft[0])\n",
    "        widthBottom = abs(bottomRight[0] - bottomLeft[0])\n",
    "        heightRight = abs(topRight[1] - bottomRight[1])\n",
    "        heightLeft = abs(topLeft[1] - bottomLeft[1])\n",
    "        print(widthBottom, widthTop, heightLeft, heightRight)\n",
    "\n",
    "        width = max([widthTop, widthBottom])\n",
    "        height = max([heightRight, heightLeft])\n",
    "\n",
    "        pts1 = np.float32([topLeft, topRight, bottomRight, bottomLeft])\n",
    "        pts2 = np.float32([[0,0], [width, 0], [width, height], [0, height]])\n",
    "\n",
    "        matrix = cv2.getPerspectiveTransform(pts1, pts2) # 좌표를 변환하기 위해 사용할 변환행렬\n",
    "        result = cv2.warpPerspective(img, matrix, (width, height)) # 이미지 변환(변환행렬 적용)\n",
    "\n",
    "        return result\n",
    "    \n",
    "    def extractEdge(self, img):\n",
    "        # 이미지 전처리 및 외곽선 추출\n",
    "        gray = cv2.cvtColor(img, cv2.COLOR_BGR2GRAY)\n",
    "        gray = cv2.GaussianBlur(gray, (3, 3), 0) # 이미지를 흐리게 처리함 (noise 제거를 위해 사용)\n",
    "        edged = cv2.Canny(gray, 75, 250) # edged를 검출하는 함수 (img, minVal, maxVal)\n",
    "        return edged\n",
    "    \n",
    "    def getPointsOfMaxRectangle(self, contours) :\n",
    "        # 크기순으로 컨투어 정렬\n",
    "        contours = sorted(contours, key=cv2.contourArea, reverse=True)[:5]\n",
    "        for c in contours:\n",
    "            peri = cv2.arcLength(c, True) # 외곽선 길이\n",
    "            # print(peri)\n",
    "            verticles = cv2.approxPolyDP(c, 0.02 * peri, closed=True) # 외곽선 근사화\n",
    "            if len(verticles) == 4 : \n",
    "                break\n",
    "        pts = verticles.reshape(4, 2) # 배열을 4 * 2 크기로 조정\n",
    "        return pts\n",
    "\n",
    "\n",
    "\n"
   ]
  },
  {
   "cell_type": "code",
   "execution_count": 3,
   "metadata": {},
   "outputs": [
    {
     "name": "stdout",
     "output_type": "stream",
     "text": [
      "2317 1969 2939 3018\n"
     ]
    }
   ],
   "source": [
    "img = cv2.imread(\"./../dataset/KakaoTalk_20240420_113433452_01.jpg\")\n",
    "scanner = Scan(img)\n",
    "\n",
    "result = scanner.adjust(img)\n",
    "\n",
    "cv2.imshow(\"result\", result)\n",
    "cv2.waitKey(0)\n",
    "cv2.destroyAllWindows()"
   ]
  },
  {
   "cell_type": "code",
   "execution_count": 65,
   "metadata": {},
   "outputs": [],
   "source": [
    "class Ocr:\n",
    "    def getTextBoxes(self, img) : \n",
    "        contourList = []\n",
    "        gray = cv2.cvtColor(img, cv2.COLOR_BGR2GRAY)\n",
    "        gray = cv2.GaussianBlur(gray, (3, 3), 0)\n",
    "        # Morphology Transform - 1차\n",
    "        kernel  = cv2.getStructuringElement(cv2.MORPH_ELLIPSE, (3, 3))\n",
    "        grad = cv2.morphologyEx(gray, cv2.MORPH_GRADIENT, kernel)\n",
    "        # Morphology Transform - 2차\n",
    "        _, bw = cv2.threshold(grad, 0.0, 255.0, cv2.THRESH_BINARY | cv2.THRESH_OTSU)\n",
    "        kernel2 = cv2.getStructuringElement(cv2.MORPH_RECT, (20,3))\n",
    "        connected = cv2.morphologyEx(bw, cv2.MORPH_CLOSE, kernel2)\n",
    "        cv2.namedWindow(\"connected\", cv2.WINDOW_NORMAL)\n",
    "        cv2.imshow(\"connected\", connected)\n",
    "        cv2.waitKey(0)\n",
    "        cv2.destroyAllWindows()\n",
    "        # contour 찾기\n",
    "        contours, hierarchy = cv2.findContours(connected.copy(), cv2.RETR_EXTERNAL, cv2.CHAIN_APPROX_NONE)\n",
    "        mask = np.zeros(bw.shape, dtype=np.uint8)\n",
    "        rgb = img.copy()\n",
    "        for idx in range(len(contours)):\n",
    "            x, y, w, h = cv2.boundingRect(contours[idx])\n",
    "            mask[y:y+h, x:x+w] = 0\n",
    "            cv2.drawContours(mask, contours, idx, (255, 255, 255), -1)\n",
    "            r = float(cv2.countNonZero(mask[y:y+h, x:x+w])) / (w*h)\n",
    "            # print(str(cv2.countNonZero(mask[y:y+h, x:x+w])) + \" / \" + str(w*h))\n",
    "            if r > 0.01 and w > 8 and h > 8 :\n",
    "                cv2.rectangle(rgb, (x,y), (x+w, y+h), (0, 255, 0), 2)\n",
    "                contourList.append(contours[idx])\n",
    "        # cv2.imshow(\"result\", rgb)\n",
    "        return (rgb, contourList)"
   ]
  },
  {
   "cell_type": "code",
   "execution_count": 66,
   "metadata": {},
   "outputs": [],
   "source": [
    "ocr = Ocr()\n",
    "_, list = ocr.getTextBoxes(result)\n",
    "# print(list)\n",
    "\n"
   ]
  },
  {
   "cell_type": "code",
   "execution_count": 67,
   "metadata": {},
   "outputs": [],
   "source": [
    "cv2.namedWindow(\"img\", cv2.WINDOW_NORMAL)\n",
    "cv2.imshow(\"img\", _)\n",
    "cv2.waitKey(0)\n",
    "cv2.destroyAllWindows()"
   ]
  },
  {
   "cell_type": "code",
   "execution_count": 153,
   "metadata": {},
   "outputs": [
    {
     "name": "stdout",
     "output_type": "stream",
     "text": [
      "76 112\n",
      "91 1837\n",
      "154 205\n",
      "163 208\n",
      "194 247\n",
      "203 248\n",
      "237 285\n",
      "244 289\n",
      "273 325\n",
      "285 329\n"
     ]
    }
   ],
   "source": [
    "# y축 기준으로 정렬하기\n",
    "sortedContours = sorted(list, key=lambda y: cv2.boundingRect(y)[1], reverse=False)\n",
    "# print(a)\n",
    "# print(_.shape)\n",
    "tmp = []\n",
    "draw = _.copy()\n",
    "for i in range(10):\n",
    "    x, y, w, h = cv2.boundingRect(sortedContours[i])\n",
    "    print(y, y+h)\n",
    "    # if r > 0.01 and w > 8 and h > 8 :\n",
    "    cv2.rectangle(draw, (x,y), (x+w, y+h), (255, 255, 0), 2)\n",
    "# cv2.drawContours(draw,  contours, -1, (255, 0, 255), 2)\n",
    "cv2.namedWindow(\"ddd\", cv2.WINDOW_NORMAL)\n",
    "cv2.imshow(\"ddd\", draw)\n",
    "cv2.waitKey(0)\n",
    "cv2.destroyAllWindows()"
   ]
  },
  {
   "cell_type": "code",
   "execution_count": 154,
   "metadata": {},
   "outputs": [],
   "source": [
    "# boundingRect가 위아래로 겹치는지 확인하기\n",
    "\n",
    "# boundingRect의 평균높이 구하기\n",
    "arrHeight = []\n",
    "for el in sortedContours:\n",
    "    arrHeight.append(cv2.boundingRect(el)[3])\n",
    "meanHeight = np.mean(arrHeight) + 10\n",
    "\n",
    "\n",
    "# contour 반으로 나눠보자\n",
    "leftList = []\n",
    "rightList = []\n",
    "halfOfWidth = _.shape[1] / 2\n",
    "for el in sortedContours:\n",
    "    if (cv2.boundingRect(el)[0] < halfOfWidth) :\n",
    "        leftList.append(el)\n",
    "    else:\n",
    "        rightList.append(el)\n",
    "\n",
    "draw = _.copy()\n",
    "startContours = []\n",
    "endContours = []\n",
    "prev = cv2.boundingRect(rightList[1])   # 일단 예외처리 (2번째까지는 생략)\n",
    "startContours.append(prev)\n",
    "for i in range(len(rightList)):\n",
    "    if (i <= 0) :    # 일단 예외처리 (2번째까지는 생략)\n",
    "        continue\n",
    "    x, y, w, h = cv2.boundingRect(rightList[i])\n",
    "    prevHeight = prev[1] + prev[3]\n",
    "    margin = prevHeight + meanHeight\n",
    "    if (h > meanHeight * 3) :\n",
    "        cv2.rectangle(draw, (x, y), (x+w, y+h), (111, 111, 111), 10)\n",
    "        continue\n",
    "    if(y+h > margin):\n",
    "        # print(prev, margin)\n",
    "        endContours.append(prev)\n",
    "        startContours.append(prev)\n",
    "    prev = (x, y, w, h)\n",
    "# print(startContours)\n",
    "# print(endContours)\n",
    "# print(len(a))\n",
    "# cv2.boundingRect(a[0])\n",
    "# _.shape\n",
    "\n",
    "\n",
    "# draw = _.copy()\n",
    "for i in range(len(startContours)-1):\n",
    "    startX = min(startContours[i][0], endContours[i][0])\n",
    "    startY = min(startContours[i][1], endContours[i][1])\n",
    "    endX = max(startContours[i][0]+startContours[i][2], endContours[i][0]+endContours[i][2])\n",
    "    endY = max(startContours[i][1]+startContours[i][3], endContours[i][1]+endContours[i][3])\n",
    "    cv2.rectangle(draw, (startX, startY), (endX, endY), (255, 255, 255), 3)\n",
    "\n",
    "# cv2.rectangle(draw, (2308, 91), (2308+9, 91+1746), (255, 255, 0), 2)\n",
    "cv2.namedWindow(\"ddd\", cv2.WINDOW_NORMAL)\n",
    "cv2.imshow(\"ddd\", draw)\n",
    "cv2.waitKey(0)\n",
    "cv2.destroyAllWindows()"
   ]
  },
  {
   "cell_type": "code",
   "execution_count": 13,
   "metadata": {},
   "outputs": [
    {
     "name": "stdout",
     "output_type": "stream",
     "text": [
      "(3018, 2317, 3)\n",
      "3006 3018\n",
      "2700 2733\n",
      "2618 2653\n",
      "2586 2662\n",
      "2579 2614\n",
      "2545 2614\n",
      "2501 2534\n",
      "2429 2544\n",
      "2426 2457\n",
      "2346 2422\n",
      "1.3025463962019854\n"
     ]
    }
   ],
   "source": [
    "print(_.shape)\n",
    "tmp = []\n",
    "for i in range(len(list)):\n",
    "    x, y, w, h = cv2.boundingRect(list[i])\n",
    "    print(y, y+h)\n",
    "\n",
    "print(3018/2317)"
   ]
  },
  {
   "cell_type": "code",
   "execution_count": 63,
   "metadata": {},
   "outputs": [],
   "source": [
    "\n",
    "# # 이미지 전처리 및 외곽선 추출\n",
    "gray = cv2.cvtColor(_, cv2.COLOR_BGR2GRAY)\n",
    "gray = cv2.GaussianBlur(gray, (3, 3), 0) # 이미지를 흐리게 처리함 (noise 제거를 위해 사용)\n",
    "edged = cv2.Canny(gray, 75, 250) # edged를 검출하는 함수 (img, minVal, maxVal)\n",
    "\n",
    "contours, hierarchy = cv2.findContours(edged.copy(), cv2.RETR_EXTERNAL, cv2.CHAIN_APPROX_SIMPLE)\n",
    "draw = _.copy()\n",
    "cv2.drawContours(draw,  contours, -1, (255, 0, 255), 2)\n",
    "cv2.imshow(\"ddd\", draw)\n",
    "cv2.waitKey(0)\n",
    "cv2.destroyAllWindows()"
   ]
  },
  {
   "cell_type": "code",
   "execution_count": null,
   "metadata": {},
   "outputs": [],
   "source": []
  }
 ],
 "metadata": {
  "kernelspec": {
   "display_name": "ocr_venv",
   "language": "python",
   "name": "python3"
  },
  "language_info": {
   "codemirror_mode": {
    "name": "ipython",
    "version": 3
   },
   "file_extension": ".py",
   "mimetype": "text/x-python",
   "name": "python",
   "nbconvert_exporter": "python",
   "pygments_lexer": "ipython3",
   "version": "3.11.8"
  }
 },
 "nbformat": 4,
 "nbformat_minor": 2
}
