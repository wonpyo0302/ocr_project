{
 "cells": [
  {
   "cell_type": "code",
   "execution_count": 1,
   "metadata": {},
   "outputs": [],
   "source": [
    "import cv2\n",
    "import numpy as np"
   ]
  },
  {
   "cell_type": "code",
   "execution_count": null,
   "metadata": {},
   "outputs": [],
   "source": [
    "class scan:\n",
    "    def __init__(self, oriImg) :\n",
    "        self.oriImg = oriImg\n",
    "\n",
    "\n",
    "    def adjust(img):\n",
    "        gray = cv2.cvtColor(img, cv2.COLOR_BGR2GRAY)\n",
    "        gray = cv2.GaussianBlur(gray, (3, 3), 0) # 이미지를 흐리게 처리함 (noise 제거를 위해 사용)\n",
    "        edged = cv2.Canny(gray, 75, 250) # edged를 검출하는 함수 (img, minVal, maxVal)\n",
    "        contours, hierarchy = cv2.findContours(edged.copy(), cv2.RETR_EXTERNAL, cv2.CHAIN_APPROX_SIMPLE)\n",
    "        draw = img.copy()\n",
    "        cv2.drawContours(draw,  contours, -1, (0, 255, 0))\n",
    "        # 크기순으로 컨투어 정렬\n",
    "        contours = sorted(contours, key=cv2.contourArea, reverse=True)[:5]\n",
    "        for c in contours:\n",
    "            peri = cv2.arcLength(c, True) # 외곽선 길이\n",
    "            # print(peri)\n",
    "            verticles = cv2.approxPolyDP(c, 0.02 * peri, True) # 외곽선 근사화\n",
    "            if len(verticles) == 4 : \n",
    "                break\n",
    "        pts = verticles.reshape(4, 2) # 배열을 4 * 2 크기로 조정\n",
    "\n"
   ]
  }
 ],
 "metadata": {
  "kernelspec": {
   "display_name": "ocr_venv",
   "language": "python",
   "name": "python3"
  },
  "language_info": {
   "codemirror_mode": {
    "name": "ipython",
    "version": 3
   },
   "file_extension": ".py",
   "mimetype": "text/x-python",
   "name": "python",
   "nbconvert_exporter": "python",
   "pygments_lexer": "ipython3",
   "version": "3.11.8"
  }
 },
 "nbformat": 4,
 "nbformat_minor": 2
}
